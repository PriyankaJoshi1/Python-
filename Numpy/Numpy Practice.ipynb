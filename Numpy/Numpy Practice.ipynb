{
 "cells": [
  {
   "cell_type": "markdown",
   "id": "551f0a9b",
   "metadata": {},
   "source": [
    "# creating and printing array"
   ]
  },
  {
   "cell_type": "code",
   "execution_count": 1,
   "id": "71ca4f88",
   "metadata": {},
   "outputs": [],
   "source": [
    "import numpy as np"
   ]
  },
  {
   "cell_type": "code",
   "execution_count": 2,
   "id": "c4b4ff64",
   "metadata": {},
   "outputs": [],
   "source": [
    "first_numpy_array=np.array([1,2,3,4])"
   ]
  },
  {
   "cell_type": "code",
   "execution_count": 3,
   "id": "ca57cb9b",
   "metadata": {},
   "outputs": [
    {
     "data": {
      "text/plain": [
       "array([1, 2, 3, 4])"
      ]
     },
     "execution_count": 3,
     "metadata": {},
     "output_type": "execute_result"
    }
   ],
   "source": [
    "first_numpy_array"
   ]
  },
  {
   "cell_type": "code",
   "execution_count": 4,
   "id": "f41fb9ec",
   "metadata": {},
   "outputs": [],
   "source": [
    "zero_array=np.zeros((2,2))"
   ]
  },
  {
   "cell_type": "code",
   "execution_count": 5,
   "id": "022abebe",
   "metadata": {},
   "outputs": [
    {
     "data": {
      "text/plain": [
       "array([[0., 0.],\n",
       "       [0., 0.]])"
      ]
     },
     "execution_count": 5,
     "metadata": {},
     "output_type": "execute_result"
    }
   ],
   "source": [
    "zero_array"
   ]
  },
  {
   "cell_type": "code",
   "execution_count": 6,
   "id": "10c4963b",
   "metadata": {},
   "outputs": [],
   "source": [
    "ones_array=np.ones((4,4))"
   ]
  },
  {
   "cell_type": "code",
   "execution_count": 7,
   "id": "851be144",
   "metadata": {},
   "outputs": [
    {
     "data": {
      "text/plain": [
       "array([[1., 1., 1., 1.],\n",
       "       [1., 1., 1., 1.],\n",
       "       [1., 1., 1., 1.],\n",
       "       [1., 1., 1., 1.]])"
      ]
     },
     "execution_count": 7,
     "metadata": {},
     "output_type": "execute_result"
    }
   ],
   "source": [
    "ones_array"
   ]
  },
  {
   "cell_type": "code",
   "execution_count": 8,
   "id": "2ac32bcc",
   "metadata": {},
   "outputs": [],
   "source": [
    "empty_array=np.empty((3,3))"
   ]
  },
  {
   "cell_type": "code",
   "execution_count": 9,
   "id": "64635ef1",
   "metadata": {},
   "outputs": [
    {
     "data": {
      "text/plain": [
       "array([[0.000e+000, 0.000e+000, 0.000e+000],\n",
       "       [0.000e+000, 0.000e+000, 5.277e-321],\n",
       "       [0.000e+000, 0.000e+000, 0.000e+000]])"
      ]
     },
     "execution_count": 9,
     "metadata": {},
     "output_type": "execute_result"
    }
   ],
   "source": [
    "empty_array"
   ]
  },
  {
   "cell_type": "code",
   "execution_count": 10,
   "id": "3014b7df",
   "metadata": {},
   "outputs": [],
   "source": [
    "np_arrange=np.arange(12)"
   ]
  },
  {
   "cell_type": "code",
   "execution_count": 11,
   "id": "6bfd116d",
   "metadata": {},
   "outputs": [
    {
     "data": {
      "text/plain": [
       "array([ 0,  1,  2,  3,  4,  5,  6,  7,  8,  9, 10, 11])"
      ]
     },
     "execution_count": 11,
     "metadata": {},
     "output_type": "execute_result"
    }
   ],
   "source": [
    "np_arrange"
   ]
  },
  {
   "cell_type": "code",
   "execution_count": 12,
   "id": "65ca6c1d",
   "metadata": {},
   "outputs": [
    {
     "name": "stdout",
     "output_type": "stream",
     "text": [
      "[ 0  1  2  3  4  5  6  7  8  9 10 11]\n"
     ]
    }
   ],
   "source": [
    "print(np_arrange)"
   ]
  },
  {
   "cell_type": "code",
   "execution_count": 13,
   "id": "63d68340",
   "metadata": {},
   "outputs": [
    {
     "data": {
      "text/plain": [
       "array([[ 0,  1,  2,  3],\n",
       "       [ 4,  5,  6,  7],\n",
       "       [ 8,  9, 10, 11]])"
      ]
     },
     "execution_count": 13,
     "metadata": {},
     "output_type": "execute_result"
    }
   ],
   "source": [
    "np_arrange.reshape(3,4)"
   ]
  },
  {
   "cell_type": "code",
   "execution_count": 14,
   "id": "288ba2e9",
   "metadata": {},
   "outputs": [],
   "source": [
    "np_linespace=np.linspace(1,3,6)"
   ]
  },
  {
   "cell_type": "code",
   "execution_count": 15,
   "id": "8a1139fe",
   "metadata": {},
   "outputs": [
    {
     "name": "stdout",
     "output_type": "stream",
     "text": [
      "[1.  1.4 1.8 2.2 2.6 3. ]\n"
     ]
    }
   ],
   "source": [
    "print(np_linespace)"
   ]
  },
  {
   "cell_type": "code",
   "execution_count": 16,
   "id": "61dacd45",
   "metadata": {},
   "outputs": [],
   "source": [
    "oned=np.arange(15)"
   ]
  },
  {
   "cell_type": "code",
   "execution_count": 17,
   "id": "dae80da3",
   "metadata": {},
   "outputs": [
    {
     "name": "stdout",
     "output_type": "stream",
     "text": [
      "[ 0  1  2  3  4  5  6  7  8  9 10 11 12 13 14]\n"
     ]
    }
   ],
   "source": [
    "print(oned)"
   ]
  },
  {
   "cell_type": "code",
   "execution_count": 18,
   "id": "1276156d",
   "metadata": {},
   "outputs": [],
   "source": [
    "twod=oned.reshape(3,5)"
   ]
  },
  {
   "cell_type": "code",
   "execution_count": 19,
   "id": "b54b7a37",
   "metadata": {},
   "outputs": [
    {
     "name": "stdout",
     "output_type": "stream",
     "text": [
      "[[ 0  1  2  3  4]\n",
      " [ 5  6  7  8  9]\n",
      " [10 11 12 13 14]]\n"
     ]
    }
   ],
   "source": [
    "print(twod)"
   ]
  },
  {
   "cell_type": "code",
   "execution_count": 20,
   "id": "e6b196ca",
   "metadata": {},
   "outputs": [],
   "source": [
    "twod=oned.reshape(5,3)"
   ]
  },
  {
   "cell_type": "code",
   "execution_count": 21,
   "id": "390cdc63",
   "metadata": {},
   "outputs": [
    {
     "data": {
      "text/plain": [
       "array([[ 0,  1,  2],\n",
       "       [ 3,  4,  5],\n",
       "       [ 6,  7,  8],\n",
       "       [ 9, 10, 11],\n",
       "       [12, 13, 14]])"
      ]
     },
     "execution_count": 21,
     "metadata": {},
     "output_type": "execute_result"
    }
   ],
   "source": [
    "twod"
   ]
  },
  {
   "cell_type": "code",
   "execution_count": 22,
   "id": "5f4030c6",
   "metadata": {},
   "outputs": [
    {
     "name": "stdout",
     "output_type": "stream",
     "text": [
      "[[ 0  1  2]\n",
      " [ 3  4  5]\n",
      " [ 6  7  8]\n",
      " [ 9 10 11]\n",
      " [12 13 14]]\n"
     ]
    }
   ],
   "source": [
    "print(twod)"
   ]
  },
  {
   "cell_type": "code",
   "execution_count": 23,
   "id": "c855262a",
   "metadata": {},
   "outputs": [],
   "source": [
    "threed=np.arange(27).reshape(3,3,3)"
   ]
  },
  {
   "cell_type": "code",
   "execution_count": 24,
   "id": "2bc485df",
   "metadata": {},
   "outputs": [
    {
     "name": "stdout",
     "output_type": "stream",
     "text": [
      "[[[ 0  1  2]\n",
      "  [ 3  4  5]\n",
      "  [ 6  7  8]]\n",
      "\n",
      " [[ 9 10 11]\n",
      "  [12 13 14]\n",
      "  [15 16 17]]\n",
      "\n",
      " [[18 19 20]\n",
      "  [21 22 23]\n",
      "  [24 25 26]]]\n"
     ]
    }
   ],
   "source": [
    "print(threed)"
   ]
  },
  {
   "cell_type": "markdown",
   "id": "4327144c",
   "metadata": {},
   "source": [
    "# Basic operations"
   ]
  },
  {
   "cell_type": "code",
   "execution_count": 25,
   "id": "fbf26529",
   "metadata": {},
   "outputs": [
    {
     "data": {
      "text/plain": [
       "150"
      ]
     },
     "execution_count": 25,
     "metadata": {},
     "output_type": "execute_result"
    }
   ],
   "source": [
    "np.add(50,100)"
   ]
  },
  {
   "cell_type": "code",
   "execution_count": 26,
   "id": "09ded4ff",
   "metadata": {},
   "outputs": [
    {
     "data": {
      "text/plain": [
       "50"
      ]
     },
     "execution_count": 26,
     "metadata": {},
     "output_type": "execute_result"
    }
   ],
   "source": [
    "np.subtract(100,50)"
   ]
  },
  {
   "cell_type": "code",
   "execution_count": 27,
   "id": "f8a93693",
   "metadata": {},
   "outputs": [],
   "source": [
    "hours_worked=np.array([10,5,6,3])"
   ]
  },
  {
   "cell_type": "code",
   "execution_count": 28,
   "id": "4f2d65a3",
   "metadata": {},
   "outputs": [
    {
     "data": {
      "text/plain": [
       "array([10,  5,  6,  3])"
      ]
     },
     "execution_count": 28,
     "metadata": {},
     "output_type": "execute_result"
    }
   ],
   "source": [
    "hours_worked"
   ]
  },
  {
   "cell_type": "code",
   "execution_count": 29,
   "id": "d6e0b093",
   "metadata": {},
   "outputs": [
    {
     "data": {
      "text/plain": [
       "24"
      ]
     },
     "execution_count": 29,
     "metadata": {},
     "output_type": "execute_result"
    }
   ],
   "source": [
    "sum(hours_worked)"
   ]
  },
  {
   "cell_type": "code",
   "execution_count": 30,
   "id": "c220056b",
   "metadata": {},
   "outputs": [],
   "source": [
    "for_5_days=hours_worked*5"
   ]
  },
  {
   "cell_type": "code",
   "execution_count": 31,
   "id": "1256afa6",
   "metadata": {},
   "outputs": [
    {
     "data": {
      "text/plain": [
       "array([50, 25, 30, 15])"
      ]
     },
     "execution_count": 31,
     "metadata": {},
     "output_type": "execute_result"
    }
   ],
   "source": [
    "for_5_days"
   ]
  },
  {
   "cell_type": "code",
   "execution_count": 32,
   "id": "d03b52d5",
   "metadata": {},
   "outputs": [
    {
     "data": {
      "text/plain": [
       "120"
      ]
     },
     "execution_count": 32,
     "metadata": {},
     "output_type": "execute_result"
    }
   ],
   "source": [
    "sum(for_5_days)"
   ]
  },
  {
   "cell_type": "code",
   "execution_count": 33,
   "id": "520dfe2a",
   "metadata": {},
   "outputs": [
    {
     "data": {
      "text/plain": [
       "array([50, 30])"
      ]
     },
     "execution_count": 33,
     "metadata": {},
     "output_type": "execute_result"
    }
   ],
   "source": [
    "for_5_days[for_5_days>25]"
   ]
  },
  {
   "cell_type": "code",
   "execution_count": 34,
   "id": "42c8c10b",
   "metadata": {},
   "outputs": [
    {
     "data": {
      "text/plain": [
       "array([False,  True,  True, False])"
      ]
     },
     "execution_count": 34,
     "metadata": {},
     "output_type": "execute_result"
    }
   ],
   "source": [
    "np.logical_and(for_5_days>20,for_5_days<50)"
   ]
  },
  {
   "cell_type": "markdown",
   "id": "8f73c27c",
   "metadata": {},
   "source": [
    "# Access array"
   ]
  },
  {
   "cell_type": "code",
   "execution_count": 35,
   "id": "5d4ab3fc",
   "metadata": {},
   "outputs": [],
   "source": [
    "cyclist_trials=np.array([[10,15,17,26],[12,11,21,24]])"
   ]
  },
  {
   "cell_type": "code",
   "execution_count": 36,
   "id": "7331383d",
   "metadata": {},
   "outputs": [
    {
     "name": "stdout",
     "output_type": "stream",
     "text": [
      "[[10 15 17 26]\n",
      " [12 11 21 24]]\n"
     ]
    }
   ],
   "source": [
    "print(cyclist_trials)"
   ]
  },
  {
   "cell_type": "code",
   "execution_count": 37,
   "id": "87b3c94a",
   "metadata": {},
   "outputs": [
    {
     "data": {
      "text/plain": [
       "array([10, 15, 17, 26])"
      ]
     },
     "execution_count": 37,
     "metadata": {},
     "output_type": "execute_result"
    }
   ],
   "source": [
    "cyclist_trials[0]"
   ]
  },
  {
   "cell_type": "code",
   "execution_count": 38,
   "id": "2ac66409",
   "metadata": {},
   "outputs": [
    {
     "data": {
      "text/plain": [
       "array([12, 11, 21, 24])"
      ]
     },
     "execution_count": 38,
     "metadata": {},
     "output_type": "execute_result"
    }
   ],
   "source": [
    "cyclist_trials[1]"
   ]
  },
  {
   "cell_type": "code",
   "execution_count": 39,
   "id": "7e2340c4",
   "metadata": {},
   "outputs": [
    {
     "data": {
      "text/plain": [
       "10"
      ]
     },
     "execution_count": 39,
     "metadata": {},
     "output_type": "execute_result"
    }
   ],
   "source": [
    "cyclist_trials[0][0]"
   ]
  },
  {
   "cell_type": "code",
   "execution_count": 40,
   "id": "8dbf4ee5",
   "metadata": {},
   "outputs": [
    {
     "data": {
      "text/plain": [
       "21"
      ]
     },
     "execution_count": 40,
     "metadata": {},
     "output_type": "execute_result"
    }
   ],
   "source": [
    "cyclist_trials[1][2]"
   ]
  },
  {
   "cell_type": "code",
   "execution_count": 41,
   "id": "bcef0f5d",
   "metadata": {},
   "outputs": [
    {
     "data": {
      "text/plain": [
       "array([26, 24])"
      ]
     },
     "execution_count": 41,
     "metadata": {},
     "output_type": "execute_result"
    }
   ],
   "source": [
    "cyclist_trials[:,3]"
   ]
  },
  {
   "cell_type": "code",
   "execution_count": 42,
   "id": "684b03c2",
   "metadata": {},
   "outputs": [
    {
     "data": {
      "text/plain": [
       "(2, 4)"
      ]
     },
     "execution_count": 42,
     "metadata": {},
     "output_type": "execute_result"
    }
   ],
   "source": [
    "cyclist_trials.shape"
   ]
  },
  {
   "cell_type": "code",
   "execution_count": 43,
   "id": "e2b1c78d",
   "metadata": {},
   "outputs": [
    {
     "data": {
      "text/plain": [
       "array([[10, 15],\n",
       "       [12, 11]])"
      ]
     },
     "execution_count": 43,
     "metadata": {},
     "output_type": "execute_result"
    }
   ],
   "source": [
    "cyclist_trials[:,0:2]"
   ]
  },
  {
   "cell_type": "code",
   "execution_count": 44,
   "id": "2c2f78f2",
   "metadata": {},
   "outputs": [
    {
     "name": "stdout",
     "output_type": "stream",
     "text": [
      "[10 15 17 26]\n",
      "[12 11 21 24]\n"
     ]
    }
   ],
   "source": [
    "for i in cyclist_trials:\n",
    "    print(i)\n",
    "\n"
   ]
  },
  {
   "cell_type": "code",
   "execution_count": 45,
   "id": "d653bdec",
   "metadata": {},
   "outputs": [],
   "source": [
    "test_scores=np.array([[55,75,65,95],[25,45,85,96]])"
   ]
  },
  {
   "cell_type": "code",
   "execution_count": 46,
   "id": "822a13c9",
   "metadata": {},
   "outputs": [],
   "source": [
    "pass_score=test_scores>60"
   ]
  },
  {
   "cell_type": "code",
   "execution_count": 47,
   "id": "074fd83d",
   "metadata": {},
   "outputs": [
    {
     "data": {
      "text/plain": [
       "array([[False,  True,  True,  True],\n",
       "       [False, False,  True,  True]])"
      ]
     },
     "execution_count": 47,
     "metadata": {},
     "output_type": "execute_result"
    }
   ],
   "source": [
    "pass_score"
   ]
  },
  {
   "cell_type": "code",
   "execution_count": 48,
   "id": "4db8a5cb",
   "metadata": {},
   "outputs": [
    {
     "data": {
      "text/plain": [
       "array([75, 65, 95, 85, 96])"
      ]
     },
     "execution_count": 48,
     "metadata": {},
     "output_type": "execute_result"
    }
   ],
   "source": [
    "test_scores[pass_score]"
   ]
  },
  {
   "cell_type": "code",
   "execution_count": 49,
   "id": "edcc924f",
   "metadata": {},
   "outputs": [],
   "source": [
    "abc=np.array(['Mumbai','Indore','Goa','Himachal'])"
   ]
  },
  {
   "cell_type": "code",
   "execution_count": 51,
   "id": "c8de18fa",
   "metadata": {},
   "outputs": [],
   "source": [
    "abcview=abc.view()"
   ]
  },
  {
   "cell_type": "code",
   "execution_count": 52,
   "id": "dd59af13",
   "metadata": {},
   "outputs": [
    {
     "data": {
      "text/plain": [
       "array(['Mumbai', 'Indore', 'Goa', 'Himachal'], dtype='<U8')"
      ]
     },
     "execution_count": 52,
     "metadata": {},
     "output_type": "execute_result"
    }
   ],
   "source": [
    "abc"
   ]
  },
  {
   "cell_type": "code",
   "execution_count": 53,
   "id": "b9b5acda",
   "metadata": {},
   "outputs": [
    {
     "data": {
      "text/plain": [
       "4"
      ]
     },
     "execution_count": 53,
     "metadata": {},
     "output_type": "execute_result"
    }
   ],
   "source": [
    "len(abcview)"
   ]
  },
  {
   "cell_type": "code",
   "execution_count": 54,
   "id": "c2898c7d",
   "metadata": {},
   "outputs": [],
   "source": [
    "abcview[3]='Shimla'"
   ]
  },
  {
   "cell_type": "code",
   "execution_count": 55,
   "id": "77ebdca7",
   "metadata": {},
   "outputs": [
    {
     "data": {
      "text/plain": [
       "array(['Mumbai', 'Indore', 'Goa', 'Shimla'], dtype='<U8')"
      ]
     },
     "execution_count": 55,
     "metadata": {},
     "output_type": "execute_result"
    }
   ],
   "source": [
    "abcview"
   ]
  },
  {
   "cell_type": "code",
   "execution_count": 56,
   "id": "4ca88ab8",
   "metadata": {},
   "outputs": [
    {
     "data": {
      "text/plain": [
       "array(['Mumbai', 'Indore', 'Goa', 'Shimla'], dtype='<U8')"
      ]
     },
     "execution_count": 56,
     "metadata": {},
     "output_type": "execute_result"
    }
   ],
   "source": [
    "abc"
   ]
  },
  {
   "cell_type": "code",
   "execution_count": 59,
   "id": "e6004277",
   "metadata": {},
   "outputs": [
    {
     "data": {
      "text/plain": [
       "array([3.16227766, 2.23606798, 2.44948974])"
      ]
     },
     "execution_count": 59,
     "metadata": {},
     "output_type": "execute_result"
    }
   ],
   "source": [
    "np.sqrt([10,5,6])"
   ]
  },
  {
   "cell_type": "code",
   "execution_count": 60,
   "id": "80b0044e",
   "metadata": {},
   "outputs": [
    {
     "data": {
      "text/plain": [
       "1.0"
      ]
     },
     "execution_count": 60,
     "metadata": {},
     "output_type": "execute_result"
    }
   ],
   "source": [
    "np.cos(0)"
   ]
  },
  {
   "cell_type": "code",
   "execution_count": 61,
   "id": "0510ef6c",
   "metadata": {},
   "outputs": [
    {
     "data": {
      "text/plain": [
       "array([1., 2.])"
      ]
     },
     "execution_count": 61,
     "metadata": {},
     "output_type": "execute_result"
    }
   ],
   "source": [
    "np.floor([1.86,2.4])"
   ]
  },
  {
   "cell_type": "code",
   "execution_count": 62,
   "id": "927aeac5",
   "metadata": {},
   "outputs": [
    {
     "data": {
      "text/plain": [
       "array([6., 2.])"
      ]
     },
     "execution_count": 62,
     "metadata": {},
     "output_type": "execute_result"
    }
   ],
   "source": [
    "np.ceil([5.8,1.2])"
   ]
  },
  {
   "cell_type": "code",
   "execution_count": 63,
   "id": "ba9212c0",
   "metadata": {},
   "outputs": [
    {
     "data": {
      "text/plain": [
       "148.4131591025766"
      ]
     },
     "execution_count": 63,
     "metadata": {},
     "output_type": "execute_result"
    }
   ],
   "source": [
    "np.exp(5)"
   ]
  },
  {
   "cell_type": "code",
   "execution_count": null,
   "id": "159bbd0b",
   "metadata": {},
   "outputs": [],
   "source": []
  }
 ],
 "metadata": {
  "kernelspec": {
   "display_name": "Python 3",
   "language": "python",
   "name": "python3"
  },
  "language_info": {
   "codemirror_mode": {
    "name": "ipython",
    "version": 3
   },
   "file_extension": ".py",
   "mimetype": "text/x-python",
   "name": "python",
   "nbconvert_exporter": "python",
   "pygments_lexer": "ipython3",
   "version": "3.8.8"
  }
 },
 "nbformat": 4,
 "nbformat_minor": 5
}
