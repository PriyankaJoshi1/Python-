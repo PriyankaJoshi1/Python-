{
 "cells": [
  {
   "cell_type": "code",
   "execution_count": 1,
   "metadata": {},
   "outputs": [],
   "source": [
    "#import the required library\n",
    "from bs4 import BeautifulSoup"
   ]
  },
  {
   "cell_type": "code",
   "execution_count": 2,
   "metadata": {},
   "outputs": [],
   "source": [
    "#sample web document from www.simplilearn.com website\n",
    "data_SL = \"\"\"<ul class=\"content-col_discover\">\n",
    "        <h5>Discover</h5>\n",
    "        <li><a href=\"/resources\" id=\"free_resources\">Free resources</a></li>\n",
    "        <li><a href=\"http://community.simplilearn.com/\" id=\"community\">Simplilearn community</a></li>\n",
    "        <li><a href=\"/career-data-labs\" id=\"lab\">Career data labs</a></li>\n",
    "        <li><a href=\"/scholarships-for-veterans\" id=\"scholarship\">Veterans scholarship</a></li>\n",
    "        <li><a href=\"http://www.simplilearn.com/feed/\" id=\"rss\">RSS feed</a></li>\n",
    "    </ul>\"\"\""
   ]
  },
  {
   "cell_type": "code",
   "execution_count": 3,
   "metadata": {},
   "outputs": [],
   "source": [
    "#create soup object\n",
    "soup_SL = BeautifulSoup(data_SL,'html.parser')"
   ]
  },
  {
   "cell_type": "code",
   "execution_count": 5,
   "metadata": {},
   "outputs": [
    {
     "name": "stdout",
     "output_type": "stream",
     "text": [
      "\n",
      "Discover\n",
      "Free resources\n",
      "Simplilearn community\n",
      "Career data labs\n",
      "Veterans scholarship\n",
      "RSS feed\n",
      "\n"
     ]
    }
   ],
   "source": [
    "#parse only part of the document, text (string) values for tags using getText method\n",
    "print (soup_SL.get_text())"
   ]
  },
  {
   "cell_type": "code",
   "execution_count": 6,
   "metadata": {},
   "outputs": [],
   "source": [
    "#import SoupStrainer class for parsing the desired part of the web document\n",
    "from bs4 import SoupStrainer"
   ]
  },
  {
   "cell_type": "code",
   "execution_count": 10,
   "metadata": {},
   "outputs": [],
   "source": [
    "#create oject to parse only the id (link) with lab\n",
    "tags_with_LabLink = SoupStrainer(id=\"lab\")"
   ]
  },
  {
   "cell_type": "code",
   "execution_count": 11,
   "metadata": {},
   "outputs": [
    {
     "name": "stdout",
     "output_type": "stream",
     "text": [
      "<a href=\"/career-data-labs\" id=\"lab\">\n",
      " Career data labs\n",
      "</a>\n"
     ]
    }
   ],
   "source": [
    "#print the part of the parsed document\n",
    "print (BeautifulSoup(data_SL,'html.parser',parse_only=tags_with_LabLink).prettify())"
   ]
  },
  {
   "cell_type": "code",
   "execution_count": 15,
   "metadata": {},
   "outputs": [
    {
     "name": "stdout",
     "output_type": "stream",
     "text": [
      "\n"
     ]
    }
   ],
   "source": [
    "#print id with free courses\n",
    "tag1=SoupStrainer(id=\"free_courses\")\n",
    "print(BeautifulSoup(data_SL,'html.parser',parse_only=tag1).prettify())"
   ]
  },
  {
   "cell_type": "code",
   "execution_count": null,
   "metadata": {},
   "outputs": [],
   "source": []
  }
 ],
 "metadata": {
  "kernelspec": {
   "display_name": "Python 3",
   "language": "python",
   "name": "python3"
  },
  "language_info": {
   "codemirror_mode": {
    "name": "ipython",
    "version": 3
   },
   "file_extension": ".py",
   "mimetype": "text/x-python",
   "name": "python",
   "nbconvert_exporter": "python",
   "pygments_lexer": "ipython3",
   "version": "3.8.8"
  }
 },
 "nbformat": 4,
 "nbformat_minor": 1
}
