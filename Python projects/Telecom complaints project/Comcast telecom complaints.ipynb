{
 "cells": [
  {
   "cell_type": "markdown",
   "id": "c40ae81e",
   "metadata": {},
   "source": [
    "# Import data into python environment"
   ]
  },
  {
   "cell_type": "code",
   "execution_count": 1,
   "id": "9c66ea85",
   "metadata": {},
   "outputs": [],
   "source": [
    "#importing the required libraries\n",
    "import numpy as np\n",
    "import pandas as pd\n",
    "import matplotlib.pyplot as plt\n",
    "import seaborn as sns\n",
    "%matplotlib inline"
   ]
  },
  {
   "cell_type": "code",
   "execution_count": 2,
   "id": "c0bcba53",
   "metadata": {},
   "outputs": [],
   "source": [
    "#importing the dataset\n",
    "telecomdata=pd.read_csv('Comcast_telecom_complaints_data.csv')"
   ]
  },
  {
   "cell_type": "code",
   "execution_count": 3,
   "id": "7afbc12f",
   "metadata": {},
   "outputs": [
    {
     "data": {
      "text/html": [
       "<div>\n",
       "<style scoped>\n",
       "    .dataframe tbody tr th:only-of-type {\n",
       "        vertical-align: middle;\n",
       "    }\n",
       "\n",
       "    .dataframe tbody tr th {\n",
       "        vertical-align: top;\n",
       "    }\n",
       "\n",
       "    .dataframe thead th {\n",
       "        text-align: right;\n",
       "    }\n",
       "</style>\n",
       "<table border=\"1\" class=\"dataframe\">\n",
       "  <thead>\n",
       "    <tr style=\"text-align: right;\">\n",
       "      <th></th>\n",
       "      <th>Ticket #</th>\n",
       "      <th>Customer Complaint</th>\n",
       "      <th>Date</th>\n",
       "      <th>Date_month_year</th>\n",
       "      <th>Time</th>\n",
       "      <th>Received Via</th>\n",
       "      <th>City</th>\n",
       "      <th>State</th>\n",
       "      <th>Zip code</th>\n",
       "      <th>Status</th>\n",
       "      <th>Filing on Behalf of Someone</th>\n",
       "    </tr>\n",
       "  </thead>\n",
       "  <tbody>\n",
       "    <tr>\n",
       "      <th>0</th>\n",
       "      <td>250635</td>\n",
       "      <td>Comcast Cable Internet Speeds</td>\n",
       "      <td>22-04-15</td>\n",
       "      <td>22-Apr-15</td>\n",
       "      <td>3:53:50 PM</td>\n",
       "      <td>Customer Care Call</td>\n",
       "      <td>Abingdon</td>\n",
       "      <td>Maryland</td>\n",
       "      <td>21009</td>\n",
       "      <td>Closed</td>\n",
       "      <td>No</td>\n",
       "    </tr>\n",
       "    <tr>\n",
       "      <th>1</th>\n",
       "      <td>223441</td>\n",
       "      <td>Payment disappear - service got disconnected</td>\n",
       "      <td>04-08-15</td>\n",
       "      <td>04-Aug-15</td>\n",
       "      <td>10:22:56 AM</td>\n",
       "      <td>Internet</td>\n",
       "      <td>Acworth</td>\n",
       "      <td>Georgia</td>\n",
       "      <td>30102</td>\n",
       "      <td>Closed</td>\n",
       "      <td>No</td>\n",
       "    </tr>\n",
       "    <tr>\n",
       "      <th>2</th>\n",
       "      <td>242732</td>\n",
       "      <td>Speed and Service</td>\n",
       "      <td>18-04-15</td>\n",
       "      <td>18-Apr-15</td>\n",
       "      <td>9:55:47 AM</td>\n",
       "      <td>Internet</td>\n",
       "      <td>Acworth</td>\n",
       "      <td>Georgia</td>\n",
       "      <td>30101</td>\n",
       "      <td>Closed</td>\n",
       "      <td>Yes</td>\n",
       "    </tr>\n",
       "    <tr>\n",
       "      <th>3</th>\n",
       "      <td>277946</td>\n",
       "      <td>Comcast Imposed a New Usage Cap of 300GB that ...</td>\n",
       "      <td>05-07-15</td>\n",
       "      <td>05-Jul-15</td>\n",
       "      <td>11:59:35 AM</td>\n",
       "      <td>Internet</td>\n",
       "      <td>Acworth</td>\n",
       "      <td>Georgia</td>\n",
       "      <td>30101</td>\n",
       "      <td>Open</td>\n",
       "      <td>Yes</td>\n",
       "    </tr>\n",
       "    <tr>\n",
       "      <th>4</th>\n",
       "      <td>307175</td>\n",
       "      <td>Comcast not working and no service to boot</td>\n",
       "      <td>26-05-15</td>\n",
       "      <td>26-May-15</td>\n",
       "      <td>1:25:26 PM</td>\n",
       "      <td>Internet</td>\n",
       "      <td>Acworth</td>\n",
       "      <td>Georgia</td>\n",
       "      <td>30101</td>\n",
       "      <td>Solved</td>\n",
       "      <td>No</td>\n",
       "    </tr>\n",
       "  </tbody>\n",
       "</table>\n",
       "</div>"
      ],
      "text/plain": [
       "  Ticket #                                 Customer Complaint      Date  \\\n",
       "0   250635                      Comcast Cable Internet Speeds  22-04-15   \n",
       "1   223441       Payment disappear - service got disconnected  04-08-15   \n",
       "2   242732                                  Speed and Service  18-04-15   \n",
       "3   277946  Comcast Imposed a New Usage Cap of 300GB that ...  05-07-15   \n",
       "4   307175         Comcast not working and no service to boot  26-05-15   \n",
       "\n",
       "  Date_month_year         Time        Received Via      City     State  \\\n",
       "0       22-Apr-15   3:53:50 PM  Customer Care Call  Abingdon  Maryland   \n",
       "1       04-Aug-15  10:22:56 AM            Internet   Acworth   Georgia   \n",
       "2       18-Apr-15   9:55:47 AM            Internet   Acworth   Georgia   \n",
       "3       05-Jul-15  11:59:35 AM            Internet   Acworth   Georgia   \n",
       "4       26-May-15   1:25:26 PM            Internet   Acworth   Georgia   \n",
       "\n",
       "   Zip code  Status Filing on Behalf of Someone  \n",
       "0     21009  Closed                          No  \n",
       "1     30102  Closed                          No  \n",
       "2     30101  Closed                         Yes  \n",
       "3     30101    Open                         Yes  \n",
       "4     30101  Solved                          No  "
      ]
     },
     "execution_count": 3,
     "metadata": {},
     "output_type": "execute_result"
    }
   ],
   "source": [
    "telecomdata.head()"
   ]
  },
  {
   "cell_type": "code",
   "execution_count": 4,
   "id": "ea861d1d",
   "metadata": {},
   "outputs": [
    {
     "data": {
      "text/plain": [
       "Ticket #                       object\n",
       "Customer Complaint             object\n",
       "Date                           object\n",
       "Date_month_year                object\n",
       "Time                           object\n",
       "Received Via                   object\n",
       "City                           object\n",
       "State                          object\n",
       "Zip code                        int64\n",
       "Status                         object\n",
       "Filing on Behalf of Someone    object\n",
       "dtype: object"
      ]
     },
     "execution_count": 4,
     "metadata": {},
     "output_type": "execute_result"
    }
   ],
   "source": [
    "telecomdata.dtypes"
   ]
  },
  {
   "cell_type": "code",
   "execution_count": 5,
   "id": "39f16d6b",
   "metadata": {},
   "outputs": [
    {
     "data": {
      "text/plain": [
       "Ticket #                       0\n",
       "Customer Complaint             0\n",
       "Date                           0\n",
       "Date_month_year                0\n",
       "Time                           0\n",
       "Received Via                   0\n",
       "City                           0\n",
       "State                          0\n",
       "Zip code                       0\n",
       "Status                         0\n",
       "Filing on Behalf of Someone    0\n",
       "dtype: int64"
      ]
     },
     "execution_count": 5,
     "metadata": {},
     "output_type": "execute_result"
    }
   ],
   "source": [
    "telecomdata.isnull().sum()"
   ]
  },
  {
   "cell_type": "code",
   "execution_count": 6,
   "id": "b50ff93a",
   "metadata": {},
   "outputs": [
    {
     "data": {
      "text/html": [
       "<div>\n",
       "<style scoped>\n",
       "    .dataframe tbody tr th:only-of-type {\n",
       "        vertical-align: middle;\n",
       "    }\n",
       "\n",
       "    .dataframe tbody tr th {\n",
       "        vertical-align: top;\n",
       "    }\n",
       "\n",
       "    .dataframe thead th {\n",
       "        text-align: right;\n",
       "    }\n",
       "</style>\n",
       "<table border=\"1\" class=\"dataframe\">\n",
       "  <thead>\n",
       "    <tr style=\"text-align: right;\">\n",
       "      <th></th>\n",
       "      <th>Ticket #</th>\n",
       "      <th>Customer Complaint</th>\n",
       "      <th>Date</th>\n",
       "      <th>Date_month_year</th>\n",
       "      <th>Time</th>\n",
       "      <th>Received Via</th>\n",
       "      <th>City</th>\n",
       "      <th>State</th>\n",
       "      <th>Zip code</th>\n",
       "      <th>Status</th>\n",
       "      <th>Filing on Behalf of Someone</th>\n",
       "    </tr>\n",
       "  </thead>\n",
       "  <tbody>\n",
       "    <tr>\n",
       "      <th>count</th>\n",
       "      <td>2224</td>\n",
       "      <td>2224</td>\n",
       "      <td>2224</td>\n",
       "      <td>2224</td>\n",
       "      <td>2224</td>\n",
       "      <td>2224</td>\n",
       "      <td>2224</td>\n",
       "      <td>2224</td>\n",
       "      <td>2224.000000</td>\n",
       "      <td>2224</td>\n",
       "      <td>2224</td>\n",
       "    </tr>\n",
       "    <tr>\n",
       "      <th>unique</th>\n",
       "      <td>2224</td>\n",
       "      <td>1841</td>\n",
       "      <td>91</td>\n",
       "      <td>91</td>\n",
       "      <td>2190</td>\n",
       "      <td>2</td>\n",
       "      <td>928</td>\n",
       "      <td>43</td>\n",
       "      <td>NaN</td>\n",
       "      <td>4</td>\n",
       "      <td>2</td>\n",
       "    </tr>\n",
       "    <tr>\n",
       "      <th>top</th>\n",
       "      <td>350621</td>\n",
       "      <td>Comcast</td>\n",
       "      <td>24-06-15</td>\n",
       "      <td>24-Jun-15</td>\n",
       "      <td>1:29:58 PM</td>\n",
       "      <td>Customer Care Call</td>\n",
       "      <td>Atlanta</td>\n",
       "      <td>Georgia</td>\n",
       "      <td>NaN</td>\n",
       "      <td>Solved</td>\n",
       "      <td>No</td>\n",
       "    </tr>\n",
       "    <tr>\n",
       "      <th>freq</th>\n",
       "      <td>1</td>\n",
       "      <td>83</td>\n",
       "      <td>218</td>\n",
       "      <td>218</td>\n",
       "      <td>2</td>\n",
       "      <td>1119</td>\n",
       "      <td>63</td>\n",
       "      <td>288</td>\n",
       "      <td>NaN</td>\n",
       "      <td>973</td>\n",
       "      <td>2021</td>\n",
       "    </tr>\n",
       "    <tr>\n",
       "      <th>mean</th>\n",
       "      <td>NaN</td>\n",
       "      <td>NaN</td>\n",
       "      <td>NaN</td>\n",
       "      <td>NaN</td>\n",
       "      <td>NaN</td>\n",
       "      <td>NaN</td>\n",
       "      <td>NaN</td>\n",
       "      <td>NaN</td>\n",
       "      <td>47994.393435</td>\n",
       "      <td>NaN</td>\n",
       "      <td>NaN</td>\n",
       "    </tr>\n",
       "    <tr>\n",
       "      <th>std</th>\n",
       "      <td>NaN</td>\n",
       "      <td>NaN</td>\n",
       "      <td>NaN</td>\n",
       "      <td>NaN</td>\n",
       "      <td>NaN</td>\n",
       "      <td>NaN</td>\n",
       "      <td>NaN</td>\n",
       "      <td>NaN</td>\n",
       "      <td>28885.279427</td>\n",
       "      <td>NaN</td>\n",
       "      <td>NaN</td>\n",
       "    </tr>\n",
       "    <tr>\n",
       "      <th>min</th>\n",
       "      <td>NaN</td>\n",
       "      <td>NaN</td>\n",
       "      <td>NaN</td>\n",
       "      <td>NaN</td>\n",
       "      <td>NaN</td>\n",
       "      <td>NaN</td>\n",
       "      <td>NaN</td>\n",
       "      <td>NaN</td>\n",
       "      <td>1075.000000</td>\n",
       "      <td>NaN</td>\n",
       "      <td>NaN</td>\n",
       "    </tr>\n",
       "    <tr>\n",
       "      <th>25%</th>\n",
       "      <td>NaN</td>\n",
       "      <td>NaN</td>\n",
       "      <td>NaN</td>\n",
       "      <td>NaN</td>\n",
       "      <td>NaN</td>\n",
       "      <td>NaN</td>\n",
       "      <td>NaN</td>\n",
       "      <td>NaN</td>\n",
       "      <td>30056.500000</td>\n",
       "      <td>NaN</td>\n",
       "      <td>NaN</td>\n",
       "    </tr>\n",
       "    <tr>\n",
       "      <th>50%</th>\n",
       "      <td>NaN</td>\n",
       "      <td>NaN</td>\n",
       "      <td>NaN</td>\n",
       "      <td>NaN</td>\n",
       "      <td>NaN</td>\n",
       "      <td>NaN</td>\n",
       "      <td>NaN</td>\n",
       "      <td>NaN</td>\n",
       "      <td>37211.000000</td>\n",
       "      <td>NaN</td>\n",
       "      <td>NaN</td>\n",
       "    </tr>\n",
       "    <tr>\n",
       "      <th>75%</th>\n",
       "      <td>NaN</td>\n",
       "      <td>NaN</td>\n",
       "      <td>NaN</td>\n",
       "      <td>NaN</td>\n",
       "      <td>NaN</td>\n",
       "      <td>NaN</td>\n",
       "      <td>NaN</td>\n",
       "      <td>NaN</td>\n",
       "      <td>77058.750000</td>\n",
       "      <td>NaN</td>\n",
       "      <td>NaN</td>\n",
       "    </tr>\n",
       "    <tr>\n",
       "      <th>max</th>\n",
       "      <td>NaN</td>\n",
       "      <td>NaN</td>\n",
       "      <td>NaN</td>\n",
       "      <td>NaN</td>\n",
       "      <td>NaN</td>\n",
       "      <td>NaN</td>\n",
       "      <td>NaN</td>\n",
       "      <td>NaN</td>\n",
       "      <td>99223.000000</td>\n",
       "      <td>NaN</td>\n",
       "      <td>NaN</td>\n",
       "    </tr>\n",
       "  </tbody>\n",
       "</table>\n",
       "</div>"
      ],
      "text/plain": [
       "       Ticket # Customer Complaint      Date Date_month_year        Time  \\\n",
       "count      2224               2224      2224            2224        2224   \n",
       "unique     2224               1841        91              91        2190   \n",
       "top      350621            Comcast  24-06-15       24-Jun-15  1:29:58 PM   \n",
       "freq          1                 83       218             218           2   \n",
       "mean        NaN                NaN       NaN             NaN         NaN   \n",
       "std         NaN                NaN       NaN             NaN         NaN   \n",
       "min         NaN                NaN       NaN             NaN         NaN   \n",
       "25%         NaN                NaN       NaN             NaN         NaN   \n",
       "50%         NaN                NaN       NaN             NaN         NaN   \n",
       "75%         NaN                NaN       NaN             NaN         NaN   \n",
       "max         NaN                NaN       NaN             NaN         NaN   \n",
       "\n",
       "              Received Via     City    State      Zip code  Status  \\\n",
       "count                 2224     2224     2224   2224.000000    2224   \n",
       "unique                   2      928       43           NaN       4   \n",
       "top     Customer Care Call  Atlanta  Georgia           NaN  Solved   \n",
       "freq                  1119       63      288           NaN     973   \n",
       "mean                   NaN      NaN      NaN  47994.393435     NaN   \n",
       "std                    NaN      NaN      NaN  28885.279427     NaN   \n",
       "min                    NaN      NaN      NaN   1075.000000     NaN   \n",
       "25%                    NaN      NaN      NaN  30056.500000     NaN   \n",
       "50%                    NaN      NaN      NaN  37211.000000     NaN   \n",
       "75%                    NaN      NaN      NaN  77058.750000     NaN   \n",
       "max                    NaN      NaN      NaN  99223.000000     NaN   \n",
       "\n",
       "       Filing on Behalf of Someone  \n",
       "count                         2224  \n",
       "unique                           2  \n",
       "top                             No  \n",
       "freq                          2021  \n",
       "mean                           NaN  \n",
       "std                            NaN  \n",
       "min                            NaN  \n",
       "25%                            NaN  \n",
       "50%                            NaN  \n",
       "75%                            NaN  \n",
       "max                            NaN  "
      ]
     },
     "execution_count": 6,
     "metadata": {},
     "output_type": "execute_result"
    }
   ],
   "source": [
    "telecomdata.describe(include='all')"
   ]
  },
  {
   "cell_type": "code",
   "execution_count": 7,
   "id": "bc4dcff0",
   "metadata": {},
   "outputs": [
    {
     "name": "stdout",
     "output_type": "stream",
     "text": [
      "<class 'pandas.core.frame.DataFrame'>\n",
      "RangeIndex: 2224 entries, 0 to 2223\n",
      "Data columns (total 11 columns):\n",
      " #   Column                       Non-Null Count  Dtype \n",
      "---  ------                       --------------  ----- \n",
      " 0   Ticket #                     2224 non-null   object\n",
      " 1   Customer Complaint           2224 non-null   object\n",
      " 2   Date                         2224 non-null   object\n",
      " 3   Date_month_year              2224 non-null   object\n",
      " 4   Time                         2224 non-null   object\n",
      " 5   Received Via                 2224 non-null   object\n",
      " 6   City                         2224 non-null   object\n",
      " 7   State                        2224 non-null   object\n",
      " 8   Zip code                     2224 non-null   int64 \n",
      " 9   Status                       2224 non-null   object\n",
      " 10  Filing on Behalf of Someone  2224 non-null   object\n",
      "dtypes: int64(1), object(10)\n",
      "memory usage: 191.2+ KB\n"
     ]
    }
   ],
   "source": [
    "telecomdata.info()"
   ]
  },
  {
   "cell_type": "markdown",
   "id": "c6b4050f",
   "metadata": {},
   "source": [
    "# Provide the trend chart for the number of complaints at monthly and daily granularity levels."
   ]
  },
  {
   "cell_type": "code",
   "execution_count": 8,
   "id": "f58d936d",
   "metadata": {},
   "outputs": [],
   "source": [
    "#Add Date Month year with Time and save it into Full_date\n",
    "telecomdata['Full_date']=telecomdata['Date_month_year']+' '+telecomdata['Time']"
   ]
  },
  {
   "cell_type": "code",
   "execution_count": 9,
   "id": "595e9f2e",
   "metadata": {},
   "outputs": [
    {
     "data": {
      "text/html": [
       "<div>\n",
       "<style scoped>\n",
       "    .dataframe tbody tr th:only-of-type {\n",
       "        vertical-align: middle;\n",
       "    }\n",
       "\n",
       "    .dataframe tbody tr th {\n",
       "        vertical-align: top;\n",
       "    }\n",
       "\n",
       "    .dataframe thead th {\n",
       "        text-align: right;\n",
       "    }\n",
       "</style>\n",
       "<table border=\"1\" class=\"dataframe\">\n",
       "  <thead>\n",
       "    <tr style=\"text-align: right;\">\n",
       "      <th></th>\n",
       "      <th>Ticket #</th>\n",
       "      <th>Customer Complaint</th>\n",
       "      <th>Date</th>\n",
       "      <th>Date_month_year</th>\n",
       "      <th>Time</th>\n",
       "      <th>Received Via</th>\n",
       "      <th>City</th>\n",
       "      <th>State</th>\n",
       "      <th>Zip code</th>\n",
       "      <th>Status</th>\n",
       "      <th>Filing on Behalf of Someone</th>\n",
       "      <th>Full_date</th>\n",
       "    </tr>\n",
       "  </thead>\n",
       "  <tbody>\n",
       "    <tr>\n",
       "      <th>0</th>\n",
       "      <td>250635</td>\n",
       "      <td>Comcast Cable Internet Speeds</td>\n",
       "      <td>22-04-15</td>\n",
       "      <td>22-Apr-15</td>\n",
       "      <td>3:53:50 PM</td>\n",
       "      <td>Customer Care Call</td>\n",
       "      <td>Abingdon</td>\n",
       "      <td>Maryland</td>\n",
       "      <td>21009</td>\n",
       "      <td>Closed</td>\n",
       "      <td>No</td>\n",
       "      <td>22-Apr-15 3:53:50 PM</td>\n",
       "    </tr>\n",
       "    <tr>\n",
       "      <th>1</th>\n",
       "      <td>223441</td>\n",
       "      <td>Payment disappear - service got disconnected</td>\n",
       "      <td>04-08-15</td>\n",
       "      <td>04-Aug-15</td>\n",
       "      <td>10:22:56 AM</td>\n",
       "      <td>Internet</td>\n",
       "      <td>Acworth</td>\n",
       "      <td>Georgia</td>\n",
       "      <td>30102</td>\n",
       "      <td>Closed</td>\n",
       "      <td>No</td>\n",
       "      <td>04-Aug-15 10:22:56 AM</td>\n",
       "    </tr>\n",
       "    <tr>\n",
       "      <th>2</th>\n",
       "      <td>242732</td>\n",
       "      <td>Speed and Service</td>\n",
       "      <td>18-04-15</td>\n",
       "      <td>18-Apr-15</td>\n",
       "      <td>9:55:47 AM</td>\n",
       "      <td>Internet</td>\n",
       "      <td>Acworth</td>\n",
       "      <td>Georgia</td>\n",
       "      <td>30101</td>\n",
       "      <td>Closed</td>\n",
       "      <td>Yes</td>\n",
       "      <td>18-Apr-15 9:55:47 AM</td>\n",
       "    </tr>\n",
       "    <tr>\n",
       "      <th>3</th>\n",
       "      <td>277946</td>\n",
       "      <td>Comcast Imposed a New Usage Cap of 300GB that ...</td>\n",
       "      <td>05-07-15</td>\n",
       "      <td>05-Jul-15</td>\n",
       "      <td>11:59:35 AM</td>\n",
       "      <td>Internet</td>\n",
       "      <td>Acworth</td>\n",
       "      <td>Georgia</td>\n",
       "      <td>30101</td>\n",
       "      <td>Open</td>\n",
       "      <td>Yes</td>\n",
       "      <td>05-Jul-15 11:59:35 AM</td>\n",
       "    </tr>\n",
       "    <tr>\n",
       "      <th>4</th>\n",
       "      <td>307175</td>\n",
       "      <td>Comcast not working and no service to boot</td>\n",
       "      <td>26-05-15</td>\n",
       "      <td>26-May-15</td>\n",
       "      <td>1:25:26 PM</td>\n",
       "      <td>Internet</td>\n",
       "      <td>Acworth</td>\n",
       "      <td>Georgia</td>\n",
       "      <td>30101</td>\n",
       "      <td>Solved</td>\n",
       "      <td>No</td>\n",
       "      <td>26-May-15 1:25:26 PM</td>\n",
       "    </tr>\n",
       "  </tbody>\n",
       "</table>\n",
       "</div>"
      ],
      "text/plain": [
       "  Ticket #                                 Customer Complaint      Date  \\\n",
       "0   250635                      Comcast Cable Internet Speeds  22-04-15   \n",
       "1   223441       Payment disappear - service got disconnected  04-08-15   \n",
       "2   242732                                  Speed and Service  18-04-15   \n",
       "3   277946  Comcast Imposed a New Usage Cap of 300GB that ...  05-07-15   \n",
       "4   307175         Comcast not working and no service to boot  26-05-15   \n",
       "\n",
       "  Date_month_year         Time        Received Via      City     State  \\\n",
       "0       22-Apr-15   3:53:50 PM  Customer Care Call  Abingdon  Maryland   \n",
       "1       04-Aug-15  10:22:56 AM            Internet   Acworth   Georgia   \n",
       "2       18-Apr-15   9:55:47 AM            Internet   Acworth   Georgia   \n",
       "3       05-Jul-15  11:59:35 AM            Internet   Acworth   Georgia   \n",
       "4       26-May-15   1:25:26 PM            Internet   Acworth   Georgia   \n",
       "\n",
       "   Zip code  Status Filing on Behalf of Someone              Full_date  \n",
       "0     21009  Closed                          No   22-Apr-15 3:53:50 PM  \n",
       "1     30102  Closed                          No  04-Aug-15 10:22:56 AM  \n",
       "2     30101  Closed                         Yes   18-Apr-15 9:55:47 AM  \n",
       "3     30101    Open                         Yes  05-Jul-15 11:59:35 AM  \n",
       "4     30101  Solved                          No   26-May-15 1:25:26 PM  "
      ]
     },
     "execution_count": 9,
     "metadata": {},
     "output_type": "execute_result"
    }
   ],
   "source": [
    "telecomdata.head()"
   ]
  },
  {
   "cell_type": "code",
   "execution_count": 10,
   "id": "99da2e21",
   "metadata": {},
   "outputs": [],
   "source": [
    "telecomdata['Date_month_year']=pd.to_datetime(telecomdata['Date_month_year'])\n",
    "telecomdata['Full_date']=pd.to_datetime(telecomdata['Full_date'])\n",
    "telecom_monthly = telecomdata.set_index(telecomdata[\"Full_date\"])\n"
   ]
  },
  {
   "cell_type": "code",
   "execution_count": 11,
   "id": "59f0cb06",
   "metadata": {},
   "outputs": [
    {
     "data": {
      "text/plain": [
       "Ticket #                               object\n",
       "Customer Complaint                     object\n",
       "Date                                   object\n",
       "Date_month_year                datetime64[ns]\n",
       "Time                                   object\n",
       "Received Via                           object\n",
       "City                                   object\n",
       "State                                  object\n",
       "Zip code                                int64\n",
       "Status                                 object\n",
       "Filing on Behalf of Someone            object\n",
       "Full_date                      datetime64[ns]\n",
       "dtype: object"
      ]
     },
     "execution_count": 11,
     "metadata": {},
     "output_type": "execute_result"
    }
   ],
   "source": [
    "telecomdata.dtypes"
   ]
  },
  {
   "cell_type": "code",
   "execution_count": 12,
   "id": "0eb0d639",
   "metadata": {},
   "outputs": [
    {
     "data": {
      "text/plain": [
       "<AxesSubplot:xlabel='Full_date', ylabel='No of complaints'>"
      ]
     },
     "execution_count": 12,
     "metadata": {},
     "output_type": "execute_result"
    },
    {
     "data": {
      "image/png": "[encoded data removed]",
      "text/plain": [
       "<Figure size 360x360 with 1 Axes>"
      ]
     },
     "metadata": {
      "needs_background": "light"
     },
     "output_type": "display_data"
    }
   ],
   "source": [
    "#Provide the trend chart for the number of complaints at monthly granularity levels.\n",
    "plt.figure(figsize=(5,5))\n",
    "plt.suptitle('Number of complaints at monthly granularity levels')\n",
    "plt.ylabel('No of complaints')\n",
    "\n",
    "telecom_monthly.groupby(pd.Grouper(freq='M')).size().plot(color='red')\n",
    "#telecomdata.groupby(pd.Grouper(freq=\"M\")).size().plot(color='red')\n",
    "\n"
   ]
  },
  {
   "cell_type": "code",
   "execution_count": 13,
   "id": "24a8bf32",
   "metadata": {},
   "outputs": [
    {
     "data": {
      "text/plain": [
       "Ticket #                               object\n",
       "Customer Complaint                     object\n",
       "Date                                   object\n",
       "Date_month_year                datetime64[ns]\n",
       "Time                                   object\n",
       "Received Via                           object\n",
       "City                                   object\n",
       "State                                  object\n",
       "Zip code                                int64\n",
       "Status                                 object\n",
       "Filing on Behalf of Someone            object\n",
       "Full_date                      datetime64[ns]\n",
       "dtype: object"
      ]
     },
     "execution_count": 13,
     "metadata": {},
     "output_type": "execute_result"
    }
   ],
   "source": [
    "telecomdata.dtypes"
   ]
  },
  {
   "cell_type": "code",
   "execution_count": 14,
   "id": "54d591da",
   "metadata": {},
   "outputs": [
    {
     "data": {
      "text/plain": [
       "<AxesSubplot:xlabel='Day_of_month', ylabel='No of complaints'>"
      ]
     },
     "execution_count": 14,
     "metadata": {},
     "output_type": "execute_result"
    },
    {
     "data": {
      "image/png": "[encoded data removed]",
      "text/plain": [
       "<Figure size 360x360 with 1 Axes>"
      ]
     },
     "metadata": {
      "needs_background": "light"
     },
     "output_type": "display_data"
    }
   ],
   "source": [
    "telecomdata['Day_of_month']=pd.to_datetime(telecomdata['Date'])\n",
    "telecom_daily=telecomdata.set_index(telecomdata['Day_of_month'])\n",
    "#plotting graph for daily complaints\n",
    "plt.figure(figsize=(5,5))\n",
    "plt.suptitle('Number of complaints at daily granularity levels')\n",
    "plt.ylabel('No of complaints')\n",
    "telecom_daily.groupby(pd.Grouper(freq='D')).size().plot(color='blue')"
   ]
  },
  {
   "cell_type": "markdown",
   "id": "64ece41c",
   "metadata": {},
   "source": [
    "# Provide a table with the frequency of complaint types."
   ]
  },
  {
   "cell_type": "code",
   "execution_count": 15,
   "id": "75116667",
   "metadata": {},
   "outputs": [],
   "source": [
    "# checking all complaint types and check for duplicate, case sensentive,and incomplete data\n",
    "telecom_complaint_types=telecomdata['Customer Complaint'].value_counts()"
   ]
  },
  {
   "cell_type": "code",
   "execution_count": 16,
   "id": "707a9312",
   "metadata": {},
   "outputs": [
    {
     "data": {
      "text/plain": [
       "Comcast                                                           83\n",
       "Comcast Internet                                                  18\n",
       "Comcast Data Cap                                                  17\n",
       "comcast                                                           13\n",
       "Comcast Billing                                                   11\n",
       "                                                                  ..\n",
       "Extremely slow internet speeds; Horrible support                   1\n",
       "comcast email acess                                                1\n",
       "Comcast refuses to lower my bill to prevoius agreement             1\n",
       "Internet Speed Cut in Half with no Notification                    1\n",
       "unresponsive calls to customer service regarding wifi hotspots     1\n",
       "Name: Customer Complaint, Length: 1841, dtype: int64"
      ]
     },
     "execution_count": 16,
     "metadata": {},
     "output_type": "execute_result"
    }
   ],
   "source": [
    "telecom_complaint_types"
   ]
  },
  {
   "cell_type": "code",
   "execution_count": 17,
   "id": "edadfe99",
   "metadata": {},
   "outputs": [],
   "source": [
    "#converting all data into uper case or sentence case so duplicate value will shorted\n",
    "telecom_complaint_types=telecomdata['Customer Complaint'].str.upper().value_counts()"
   ]
  },
  {
   "cell_type": "code",
   "execution_count": 18,
   "id": "9ada5bd7",
   "metadata": {},
   "outputs": [
    {
     "data": {
      "text/plain": [
       "COMCAST                                             102\n",
       "COMCAST DATA CAP                                     30\n",
       "COMCAST INTERNET                                     29\n",
       "COMCAST DATA CAPS                                    21\n",
       "COMCAST BILLING                                      18\n",
       "                                                   ... \n",
       "FRAUDULENT ACCOUNT                                    1\n",
       "OVERCHARGES                                           1\n",
       "UNFAIR BILLING PRACTICES REGARDING COMCAST            1\n",
       "COMCAST CHARGING RIDICULOUS PRICES                    1\n",
       "COMCAST BILLING AFTER DISCONTINUATION OF SERVICE      1\n",
       "Name: Customer Complaint, Length: 1740, dtype: int64"
      ]
     },
     "execution_count": 18,
     "metadata": {},
     "output_type": "execute_result"
    }
   ],
   "source": [
    "telecom_complaint_types"
   ]
  },
  {
   "cell_type": "code",
   "execution_count": 19,
   "id": "f996ab69",
   "metadata": {},
   "outputs": [
    {
     "data": {
      "text/plain": [
       "COMCAST                      102\n",
       "COMCAST DATA CAP              30\n",
       "COMCAST INTERNET              29\n",
       "COMCAST DATA CAPS             21\n",
       "COMCAST BILLING               18\n",
       "COMCAST SERVICE               15\n",
       "INTERNET SPEED                15\n",
       "DATA CAPS                     13\n",
       "UNFAIR BILLING PRACTICES      13\n",
       "DATA CAP                      12\n",
       "COMCAST COMPLAINT             11\n",
       "COMCAST/XFINITY               11\n",
       "COMCAST INTERNET SERVICE      10\n",
       "BILLING                        9\n",
       "BILLING ISSUES                 8\n",
       "COMCAST BILLING COMPLAINT      5\n",
       "SLOW INTERNET                  5\n",
       "INTERNET                       5\n",
       "COMCAST BILLING PRACTICES      5\n",
       "COMPLAINT AGAINST COMCAST      5\n",
       "Name: Customer Complaint, dtype: int64"
      ]
     },
     "execution_count": 19,
     "metadata": {},
     "output_type": "execute_result"
    }
   ],
   "source": [
    "telecom_complaint_types.head(20)\n",
    "#as dataset is huge so we have showed top 20 complaints and from the table we can see COMCAST,COMCAST DATA CAP and COMCAST INTERNET \n",
    "#are the top complaints"
   ]
  },
  {
   "cell_type": "markdown",
   "id": "c7b67a81",
   "metadata": {},
   "source": [
    "# Create a new categorical variable with value as Open and Closed. Open & Pending is to be categorized as Open and Closed & Solved is to be categorized as Closed."
   ]
  },
  {
   "cell_type": "code",
   "execution_count": 20,
   "id": "1403062a",
   "metadata": {},
   "outputs": [
    {
     "data": {
      "text/plain": [
       "Solved     973\n",
       "Closed     734\n",
       "Open       363\n",
       "Pending    154\n",
       "Name: Status, dtype: int64"
      ]
     },
     "execution_count": 20,
     "metadata": {},
     "output_type": "execute_result"
    }
   ],
   "source": [
    "telecomdata[\"Status\"].value_counts()"
   ]
  },
  {
   "cell_type": "code",
   "execution_count": 21,
   "id": "54e32d01",
   "metadata": {},
   "outputs": [],
   "source": [
    "#Making a new column which will store open and pending as open and closed and solved as closed\n",
    "telecomdata['Status_new']=['Open' if Status=='Open' or Status=='Pending' else\n",
    "                        'Closed' for Status in telecomdata['Status']]"
   ]
  },
  {
   "cell_type": "code",
   "execution_count": 22,
   "id": "031a14da",
   "metadata": {},
   "outputs": [
    {
     "data": {
      "text/plain": [
       "array(['Closed', 'Open'], dtype=object)"
      ]
     },
     "execution_count": 22,
     "metadata": {},
     "output_type": "execute_result"
    }
   ],
   "source": [
    "telecomdata['Status_new'].unique()"
   ]
  },
  {
   "cell_type": "markdown",
   "id": "64b5e6c5",
   "metadata": {},
   "source": [
    "# Provide state wise status of complaints in a stacked bar chart. "
   ]
  },
  {
   "cell_type": "code",
   "execution_count": 23,
   "id": "6fef4757",
   "metadata": {},
   "outputs": [
    {
     "data": {
      "text/html": [
       "<div>\n",
       "<style scoped>\n",
       "    .dataframe tbody tr th:only-of-type {\n",
       "        vertical-align: middle;\n",
       "    }\n",
       "\n",
       "    .dataframe tbody tr th {\n",
       "        vertical-align: top;\n",
       "    }\n",
       "\n",
       "    .dataframe thead th {\n",
       "        text-align: right;\n",
       "    }\n",
       "</style>\n",
       "<table border=\"1\" class=\"dataframe\">\n",
       "  <thead>\n",
       "    <tr style=\"text-align: right;\">\n",
       "      <th>Status_new</th>\n",
       "      <th>Closed</th>\n",
       "      <th>Open</th>\n",
       "    </tr>\n",
       "    <tr>\n",
       "      <th>State</th>\n",
       "      <th></th>\n",
       "      <th></th>\n",
       "    </tr>\n",
       "  </thead>\n",
       "  <tbody>\n",
       "    <tr>\n",
       "      <th>Alabama</th>\n",
       "      <td>17</td>\n",
       "      <td>9</td>\n",
       "    </tr>\n",
       "    <tr>\n",
       "      <th>Arizona</th>\n",
       "      <td>14</td>\n",
       "      <td>6</td>\n",
       "    </tr>\n",
       "    <tr>\n",
       "      <th>Arkansas</th>\n",
       "      <td>6</td>\n",
       "      <td>0</td>\n",
       "    </tr>\n",
       "    <tr>\n",
       "      <th>California</th>\n",
       "      <td>159</td>\n",
       "      <td>61</td>\n",
       "    </tr>\n",
       "    <tr>\n",
       "      <th>Colorado</th>\n",
       "      <td>58</td>\n",
       "      <td>22</td>\n",
       "    </tr>\n",
       "    <tr>\n",
       "      <th>Connecticut</th>\n",
       "      <td>9</td>\n",
       "      <td>3</td>\n",
       "    </tr>\n",
       "    <tr>\n",
       "      <th>Delaware</th>\n",
       "      <td>8</td>\n",
       "      <td>4</td>\n",
       "    </tr>\n",
       "    <tr>\n",
       "      <th>District Of Columbia</th>\n",
       "      <td>14</td>\n",
       "      <td>2</td>\n",
       "    </tr>\n",
       "    <tr>\n",
       "      <th>District of Columbia</th>\n",
       "      <td>1</td>\n",
       "      <td>0</td>\n",
       "    </tr>\n",
       "    <tr>\n",
       "      <th>Florida</th>\n",
       "      <td>201</td>\n",
       "      <td>39</td>\n",
       "    </tr>\n",
       "    <tr>\n",
       "      <th>Georgia</th>\n",
       "      <td>208</td>\n",
       "      <td>80</td>\n",
       "    </tr>\n",
       "    <tr>\n",
       "      <th>Illinois</th>\n",
       "      <td>135</td>\n",
       "      <td>29</td>\n",
       "    </tr>\n",
       "    <tr>\n",
       "      <th>Indiana</th>\n",
       "      <td>50</td>\n",
       "      <td>9</td>\n",
       "    </tr>\n",
       "    <tr>\n",
       "      <th>Iowa</th>\n",
       "      <td>1</td>\n",
       "      <td>0</td>\n",
       "    </tr>\n",
       "    <tr>\n",
       "      <th>Kansas</th>\n",
       "      <td>1</td>\n",
       "      <td>1</td>\n",
       "    </tr>\n",
       "    <tr>\n",
       "      <th>Kentucky</th>\n",
       "      <td>4</td>\n",
       "      <td>3</td>\n",
       "    </tr>\n",
       "    <tr>\n",
       "      <th>Louisiana</th>\n",
       "      <td>12</td>\n",
       "      <td>1</td>\n",
       "    </tr>\n",
       "    <tr>\n",
       "      <th>Maine</th>\n",
       "      <td>3</td>\n",
       "      <td>2</td>\n",
       "    </tr>\n",
       "    <tr>\n",
       "      <th>Maryland</th>\n",
       "      <td>63</td>\n",
       "      <td>15</td>\n",
       "    </tr>\n",
       "    <tr>\n",
       "      <th>Massachusetts</th>\n",
       "      <td>50</td>\n",
       "      <td>11</td>\n",
       "    </tr>\n",
       "    <tr>\n",
       "      <th>Michigan</th>\n",
       "      <td>92</td>\n",
       "      <td>23</td>\n",
       "    </tr>\n",
       "    <tr>\n",
       "      <th>Minnesota</th>\n",
       "      <td>29</td>\n",
       "      <td>4</td>\n",
       "    </tr>\n",
       "    <tr>\n",
       "      <th>Mississippi</th>\n",
       "      <td>23</td>\n",
       "      <td>16</td>\n",
       "    </tr>\n",
       "    <tr>\n",
       "      <th>Missouri</th>\n",
       "      <td>3</td>\n",
       "      <td>1</td>\n",
       "    </tr>\n",
       "    <tr>\n",
       "      <th>Montana</th>\n",
       "      <td>1</td>\n",
       "      <td>0</td>\n",
       "    </tr>\n",
       "    <tr>\n",
       "      <th>Nevada</th>\n",
       "      <td>1</td>\n",
       "      <td>0</td>\n",
       "    </tr>\n",
       "    <tr>\n",
       "      <th>New Hampshire</th>\n",
       "      <td>8</td>\n",
       "      <td>4</td>\n",
       "    </tr>\n",
       "    <tr>\n",
       "      <th>New Jersey</th>\n",
       "      <td>56</td>\n",
       "      <td>19</td>\n",
       "    </tr>\n",
       "    <tr>\n",
       "      <th>New Mexico</th>\n",
       "      <td>11</td>\n",
       "      <td>4</td>\n",
       "    </tr>\n",
       "    <tr>\n",
       "      <th>New York</th>\n",
       "      <td>6</td>\n",
       "      <td>0</td>\n",
       "    </tr>\n",
       "    <tr>\n",
       "      <th>North Carolina</th>\n",
       "      <td>3</td>\n",
       "      <td>0</td>\n",
       "    </tr>\n",
       "    <tr>\n",
       "      <th>Ohio</th>\n",
       "      <td>3</td>\n",
       "      <td>0</td>\n",
       "    </tr>\n",
       "    <tr>\n",
       "      <th>Oregon</th>\n",
       "      <td>36</td>\n",
       "      <td>13</td>\n",
       "    </tr>\n",
       "    <tr>\n",
       "      <th>Pennsylvania</th>\n",
       "      <td>110</td>\n",
       "      <td>20</td>\n",
       "    </tr>\n",
       "    <tr>\n",
       "      <th>Rhode Island</th>\n",
       "      <td>1</td>\n",
       "      <td>0</td>\n",
       "    </tr>\n",
       "    <tr>\n",
       "      <th>South Carolina</th>\n",
       "      <td>15</td>\n",
       "      <td>3</td>\n",
       "    </tr>\n",
       "    <tr>\n",
       "      <th>Tennessee</th>\n",
       "      <td>96</td>\n",
       "      <td>47</td>\n",
       "    </tr>\n",
       "    <tr>\n",
       "      <th>Texas</th>\n",
       "      <td>49</td>\n",
       "      <td>22</td>\n",
       "    </tr>\n",
       "    <tr>\n",
       "      <th>Utah</th>\n",
       "      <td>16</td>\n",
       "      <td>6</td>\n",
       "    </tr>\n",
       "    <tr>\n",
       "      <th>Vermont</th>\n",
       "      <td>2</td>\n",
       "      <td>1</td>\n",
       "    </tr>\n",
       "    <tr>\n",
       "      <th>Virginia</th>\n",
       "      <td>49</td>\n",
       "      <td>11</td>\n",
       "    </tr>\n",
       "    <tr>\n",
       "      <th>Washington</th>\n",
       "      <td>75</td>\n",
       "      <td>23</td>\n",
       "    </tr>\n",
       "    <tr>\n",
       "      <th>West Virginia</th>\n",
       "      <td>8</td>\n",
       "      <td>3</td>\n",
       "    </tr>\n",
       "  </tbody>\n",
       "</table>\n",
       "</div>"
      ],
      "text/plain": [
       "Status_new            Closed  Open\n",
       "State                             \n",
       "Alabama                   17     9\n",
       "Arizona                   14     6\n",
       "Arkansas                   6     0\n",
       "California               159    61\n",
       "Colorado                  58    22\n",
       "Connecticut                9     3\n",
       "Delaware                   8     4\n",
       "District Of Columbia      14     2\n",
       "District of Columbia       1     0\n",
       "Florida                  201    39\n",
       "Georgia                  208    80\n",
       "Illinois                 135    29\n",
       "Indiana                   50     9\n",
       "Iowa                       1     0\n",
       "Kansas                     1     1\n",
       "Kentucky                   4     3\n",
       "Louisiana                 12     1\n",
       "Maine                      3     2\n",
       "Maryland                  63    15\n",
       "Massachusetts             50    11\n",
       "Michigan                  92    23\n",
       "Minnesota                 29     4\n",
       "Mississippi               23    16\n",
       "Missouri                   3     1\n",
       "Montana                    1     0\n",
       "Nevada                     1     0\n",
       "New Hampshire              8     4\n",
       "New Jersey                56    19\n",
       "New Mexico                11     4\n",
       "New York                   6     0\n",
       "North Carolina             3     0\n",
       "Ohio                       3     0\n",
       "Oregon                    36    13\n",
       "Pennsylvania             110    20\n",
       "Rhode Island               1     0\n",
       "South Carolina            15     3\n",
       "Tennessee                 96    47\n",
       "Texas                     49    22\n",
       "Utah                      16     6\n",
       "Vermont                    2     1\n",
       "Virginia                  49    11\n",
       "Washington                75    23\n",
       "West Virginia              8     3"
      ]
     },
     "execution_count": 23,
     "metadata": {},
     "output_type": "execute_result"
    }
   ],
   "source": [
    "pd.crosstab(telecomdata.State,telecomdata.Status_new)"
   ]
  },
  {
   "cell_type": "code",
   "execution_count": 24,
   "id": "9817c41c",
   "metadata": {},
   "outputs": [
    {
     "data": {
      "text/plain": [
       "<AxesSubplot:title={'center':'State wise status of complaints'}, ylabel='State'>"
      ]
     },
     "execution_count": 24,
     "metadata": {},
     "output_type": "execute_result"
    },
    {
     "data": {
      "image/png": "[encoded data removed]",
      "text/plain": [
       "<Figure size 720x720 with 1 Axes>"
      ]
     },
     "metadata": {
      "needs_background": "light"
     },
     "output_type": "display_data"
    }
   ],
   "source": [
    "#plotting\n",
    "pd.crosstab(telecomdata.State,telecomdata.Status_new).plot(kind='barh',figsize=(10,10),stacked=True,title='State wise status of complaints')"
   ]
  },
  {
   "cell_type": "code",
   "execution_count": 25,
   "id": "08fd32e4",
   "metadata": {},
   "outputs": [],
   "source": [
    "#from the plot we can see that\n",
    "#Georgia has maximum complaints\n",
    "#To find out the state which has highest percentage of unresolved problems\n",
    "Open_complaint_status=telecomdata[telecomdata['Status_new']=='Open']"
   ]
  },
  {
   "cell_type": "code",
   "execution_count": 26,
   "id": "f0106581",
   "metadata": {},
   "outputs": [
    {
     "data": {
      "text/plain": [
       "Georgia                 80\n",
       "California              61\n",
       "Tennessee               47\n",
       "Florida                 39\n",
       "Illinois                29\n",
       "Washington              23\n",
       "Michigan                23\n",
       "Colorado                22\n",
       "Texas                   22\n",
       "Pennsylvania            20\n",
       "New Jersey              19\n",
       "Mississippi             16\n",
       "Maryland                15\n",
       "Oregon                  13\n",
       "Virginia                11\n",
       "Massachusetts           11\n",
       "Alabama                  9\n",
       "Indiana                  9\n",
       "Utah                     6\n",
       "Arizona                  6\n",
       "Delaware                 4\n",
       "New Mexico               4\n",
       "Minnesota                4\n",
       "New Hampshire            4\n",
       "West Virginia            3\n",
       "South Carolina           3\n",
       "Connecticut              3\n",
       "Kentucky                 3\n",
       "District Of Columbia     2\n",
       "Maine                    2\n",
       "Louisiana                1\n",
       "Kansas                   1\n",
       "Missouri                 1\n",
       "Vermont                  1\n",
       "Name: State, dtype: int64"
      ]
     },
     "execution_count": 26,
     "metadata": {},
     "output_type": "execute_result"
    }
   ],
   "source": [
    "Unresolved_complaints=Open_complaint_status.State.value_counts()\n",
    "Unresolved_complaints"
   ]
  },
  {
   "cell_type": "code",
   "execution_count": 27,
   "id": "e24ed08b",
   "metadata": {},
   "outputs": [
    {
     "data": {
      "text/plain": [
       "<AxesSubplot:title={'center':'Unresolved complaints'}>"
      ]
     },
     "execution_count": 27,
     "metadata": {},
     "output_type": "execute_result"
    },
    {
     "data": {
      "image/png": "[encoded data removed]",
      "text/plain": [
       "<Figure size 720x720 with 1 Axes>"
      ]
     },
     "metadata": {
      "needs_background": "light"
     },
     "output_type": "display_data"
    }
   ],
   "source": [
    "#plotting graph of unresolved complaints\n",
    "Unresolved_complaints.plot(figsize=(10,10),title='Unresolved complaints',kind='bar')\n",
    "#Georgia has the highest number of unresolved problems\n"
   ]
  },
  {
   "cell_type": "markdown",
   "id": "a824065b",
   "metadata": {},
   "source": [
    "# Provide the percentage of complaints resolved till date, which were received through the Internet and customer care calls."
   ]
  },
  {
   "cell_type": "code",
   "execution_count": 28,
   "id": "ac8138c9",
   "metadata": {},
   "outputs": [
    {
     "data": {
      "text/plain": [
       "Index(['Ticket #', 'Customer Complaint', 'Date', 'Date_month_year', 'Time',\n",
       "       'Received Via', 'City', 'State', 'Zip code', 'Status',\n",
       "       'Filing on Behalf of Someone', 'Full_date', 'Day_of_month',\n",
       "       'Status_new'],\n",
       "      dtype='object')"
      ]
     },
     "execution_count": 28,
     "metadata": {},
     "output_type": "execute_result"
    }
   ],
   "source": [
    "telecomdata.columns"
   ]
  },
  {
   "cell_type": "code",
   "execution_count": 30,
   "id": "52730214",
   "metadata": {},
   "outputs": [
    {
     "data": {
      "text/plain": [
       "array(['Customer Care Call', 'Internet'], dtype=object)"
      ]
     },
     "execution_count": 30,
     "metadata": {},
     "output_type": "execute_result"
    }
   ],
   "source": [
    "telecomdata['Received Via'].unique()"
   ]
  },
  {
   "cell_type": "code",
   "execution_count": 33,
   "id": "1b1a2020",
   "metadata": {},
   "outputs": [
    {
     "data": {
      "text/plain": [
       "Closed    1707\n",
       "Open       517\n",
       "Name: Status_new, dtype: int64"
      ]
     },
     "execution_count": 33,
     "metadata": {},
     "output_type": "execute_result"
    }
   ],
   "source": [
    "telecomdata['Status_new'].value_counts()"
   ]
  },
  {
   "cell_type": "code",
   "execution_count": 41,
   "id": "a9a11774",
   "metadata": {},
   "outputs": [
    {
     "data": {
      "text/plain": [
       "([<matplotlib.patches.Wedge at 0x56272ab220>,\n",
       "  <matplotlib.patches.Wedge at 0x56272ab2e0>],\n",
       " [Text(-1.0429572663585824, 0.9339379746802423, ''),\n",
       "  Text(0.8194664579195076, -0.7338083703153406, '')],\n",
       " [Text(-0.6704725283733745, 0.6003886980087272, '76.8%'),\n",
       "  Text(0.44698170431973133, -0.40025911108109485, '23.2%')])"
      ]
     },
     "execution_count": 41,
     "metadata": {},
     "output_type": "execute_result"
    },
    {
     "data": {
      "image/png": "[encoded data removed]",
      "text/plain": [
       "<Figure size 432x288 with 1 Axes>"
      ]
     },
     "metadata": {},
     "output_type": "display_data"
    }
   ],
   "source": [
    "#There are only two types of complaints so there are total 1707 resolved complaints\n",
    "#plotting a pie chart \n",
    "explode=[0.3,0]\n",
    "plt.title('Complaints through call and internet')\n",
    "plt.pie(telecomdata['Status_new'].value_counts(),autopct='%1.1f%%',explode=explode)"
   ]
  },
  {
   "cell_type": "code",
   "execution_count": null,
   "id": "67fbf93c",
   "metadata": {},
   "outputs": [],
   "source": []
  }
 ],
 "metadata": {
  "kernelspec": {
   "display_name": "Python 3",
   "language": "python",
   "name": "python3"
  },
  "language_info": {
   "codemirror_mode": {
    "name": "ipython",
    "version": 3
   },
   "file_extension": ".py",
   "mimetype": "text/x-python",
   "name": "python",
   "nbconvert_exporter": "python",
   "pygments_lexer": "ipython3",
   "version": "3.8.8"
  }
 },
 "nbformat": 4,
 "nbformat_minor": 5
}
