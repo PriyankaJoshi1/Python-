{
 "cells": [
  {
   "cell_type": "code",
   "execution_count": 1,
   "metadata": {
    "collapsed": true
   },
   "outputs": [],
   "source": [
    "#import required library for normal distribution\n",
    "from scipy.stats import norm"
   ]
  },
  {
   "cell_type": "code",
   "execution_count": 2,
   "metadata": {},
   "outputs": [
    {
     "data": {
      "text/plain": [
       "array([ 1.24065978, -0.08659323,  0.02290148,  1.4264611 , -0.68437218,\n",
       "        0.33740039, -0.51044118,  1.52695506, -0.54934788, -0.31646643,\n",
       "        0.12284473, -0.94044264,  0.00695787,  1.00779893, -0.80800409,\n",
       "       -0.68596349, -0.11135956,  0.25981356, -1.38058478,  0.09013638])"
      ]
     },
     "execution_count": 2,
     "metadata": {},
     "output_type": "execute_result"
    }
   ],
   "source": [
    "#define 20 randmon variables for normal distribution of data\n",
    "norm.rvs(loc=0,scale=1,size=20)"
   ]
  },
  {
   "cell_type": "code",
   "execution_count": 3,
   "metadata": {},
   "outputs": [
    {
     "data": {
      "text/plain": [
       "0.9986501019683699"
      ]
     },
     "execution_count": 3,
     "metadata": {},
     "output_type": "execute_result"
    }
   ],
   "source": [
    "# perfrom Cumulative Distribution Function or CDF for 10 random variables, loc=1 and scale 3\n",
    "norm.cdf(10,loc=1,scale=3)"
   ]
  },
  {
   "cell_type": "code",
   "execution_count": 4,
   "metadata": {},
   "outputs": [
    {
     "data": {
      "text/plain": [
       "7.9988277570068127e-38"
      ]
     },
     "execution_count": 4,
     "metadata": {},
     "output_type": "execute_result"
    }
   ],
   "source": [
    "# perfrom Probability Density Function or PDF for 14 random variables, loc=1 and scale 1\n",
    "norm.pdf(14,loc=1,scale=1)"
   ]
  },
  {
   "cell_type": "code",
   "execution_count": null,
   "metadata": {
    "collapsed": true
   },
   "outputs": [],
   "source": []
  }
 ],
 "metadata": {
  "kernelspec": {
   "display_name": "Python 3",
   "language": "python",
   "name": "python3"
  },
  "language_info": {
   "codemirror_mode": {
    "name": "ipython",
    "version": 3
   },
   "file_extension": ".py",
   "mimetype": "text/x-python",
   "name": "python",
   "nbconvert_exporter": "python",
   "pygments_lexer": "ipython3",
   "version": "3.8.8"
  }
 },
 "nbformat": 4,
 "nbformat_minor": 1
}
