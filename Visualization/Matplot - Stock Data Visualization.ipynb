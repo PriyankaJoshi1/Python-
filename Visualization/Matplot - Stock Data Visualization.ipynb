{
 "cells": [
  {
   "cell_type": "code",
   "execution_count": 10,
   "metadata": {},
   "outputs": [
    {
     "name": "stdout",
     "output_type": "stream",
     "text": [
      "Collecting pandas_datareader\n",
      "  Downloading pandas_datareader-0.10.0-py3-none-any.whl (109 kB)\n",
      "Requirement already satisfied: pandas>=0.23 in c:\\users\\dell\\anaconda3\\lib\\site-packages (from pandas_datareader) (1.2.4)\n",
      "Requirement already satisfied: requests>=2.19.0 in c:\\users\\dell\\anaconda3\\lib\\site-packages (from pandas_datareader) (2.25.1)\n",
      "Requirement already satisfied: lxml in c:\\users\\dell\\anaconda3\\lib\\site-packages (from pandas_datareader) (4.6.3)\n",
      "Requirement already satisfied: python-dateutil>=2.7.3 in c:\\users\\dell\\anaconda3\\lib\\site-packages (from pandas>=0.23->pandas_datareader) (2.8.1)\n",
      "Requirement already satisfied: pytz>=2017.3 in c:\\users\\dell\\anaconda3\\lib\\site-packages (from pandas>=0.23->pandas_datareader) (2021.1)\n",
      "Requirement already satisfied: numpy>=1.16.5 in c:\\users\\dell\\anaconda3\\lib\\site-packages (from pandas>=0.23->pandas_datareader) (1.20.1)\n",
      "Requirement already satisfied: six>=1.5 in c:\\users\\dell\\anaconda3\\lib\\site-packages (from python-dateutil>=2.7.3->pandas>=0.23->pandas_datareader) (1.15.0)\n",
      "Requirement already satisfied: chardet<5,>=3.0.2 in c:\\users\\dell\\anaconda3\\lib\\site-packages (from requests>=2.19.0->pandas_datareader) (4.0.0)\n",
      "Requirement already satisfied: idna<3,>=2.5 in c:\\users\\dell\\anaconda3\\lib\\site-packages (from requests>=2.19.0->pandas_datareader) (2.10)\n",
      "Requirement already satisfied: urllib3<1.27,>=1.21.1 in c:\\users\\dell\\anaconda3\\lib\\site-packages (from requests>=2.19.0->pandas_datareader) (1.26.4)\n",
      "Requirement already satisfied: certifi>=2017.4.17 in c:\\users\\dell\\anaconda3\\lib\\site-packages (from requests>=2.19.0->pandas_datareader) (2020.12.5)\n",
      "Installing collected packages: pandas-datareader\n",
      "Successfully installed pandas-datareader-0.10.0\n"
     ]
    }
   ],
   "source": [
    "#conda install pandas_datareader \n",
    "!pip install pandas_datareader"
   ]
  },
  {
   "cell_type": "code",
   "execution_count": 11,
   "metadata": {},
   "outputs": [
    {
     "name": "stdout",
     "output_type": "stream",
     "text": [
      "Requirement already satisfied: pandas-datareader in c:\\users\\dell\\anaconda3\\lib\\site-packages (0.10.0)\n",
      "Requirement already satisfied: pandas>=0.23 in c:\\users\\dell\\anaconda3\\lib\\site-packages (from pandas-datareader) (1.2.4)\n",
      "Requirement already satisfied: lxml in c:\\users\\dell\\anaconda3\\lib\\site-packages (from pandas-datareader) (4.6.3)\n",
      "Requirement already satisfied: requests>=2.19.0 in c:\\users\\dell\\anaconda3\\lib\\site-packages (from pandas-datareader) (2.25.1)\n",
      "Requirement already satisfied: python-dateutil>=2.7.3 in c:\\users\\dell\\anaconda3\\lib\\site-packages (from pandas>=0.23->pandas-datareader) (2.8.1)\n",
      "Requirement already satisfied: pytz>=2017.3 in c:\\users\\dell\\anaconda3\\lib\\site-packages (from pandas>=0.23->pandas-datareader) (2021.1)\n",
      "Requirement already satisfied: numpy>=1.16.5 in c:\\users\\dell\\anaconda3\\lib\\site-packages (from pandas>=0.23->pandas-datareader) (1.20.1)\n",
      "Requirement already satisfied: six>=1.5 in c:\\users\\dell\\anaconda3\\lib\\site-packages (from python-dateutil>=2.7.3->pandas>=0.23->pandas-datareader) (1.15.0)\n",
      "Requirement already satisfied: idna<3,>=2.5 in c:\\users\\dell\\anaconda3\\lib\\site-packages (from requests>=2.19.0->pandas-datareader) (2.10)\n",
      "Requirement already satisfied: chardet<5,>=3.0.2 in c:\\users\\dell\\anaconda3\\lib\\site-packages (from requests>=2.19.0->pandas-datareader) (4.0.0)\n",
      "Requirement already satisfied: certifi>=2017.4.17 in c:\\users\\dell\\anaconda3\\lib\\site-packages (from requests>=2.19.0->pandas-datareader) (2020.12.5)\n",
      "Requirement already satisfied: urllib3<1.27,>=1.21.1 in c:\\users\\dell\\anaconda3\\lib\\site-packages (from requests>=2.19.0->pandas-datareader) (1.26.4)\n"
     ]
    }
   ],
   "source": [
    "#import required libraries\n",
    "import pandas as pd\n",
    "import matplotlib.pyplot as plt\n",
    "from matplotlib import style\n",
    "from pandas_datareader import data\n",
    "from datetime import datetime\n",
    "!pip install pandas-datareader \n",
    "\n",
    "%matplotlib inline"
   ]
  },
  {
   "cell_type": "code",
   "execution_count": 12,
   "metadata": {},
   "outputs": [],
   "source": [
    "#start and end time of the stock (one year stock data analysis)\n",
    "#end date will be today's date and start data would be 1 year before from today's date\n",
    "end = datetime.now()\n",
    "start = datetime(end.year-1,end.month,end.day)"
   ]
  },
  {
   "cell_type": "code",
   "execution_count": 13,
   "metadata": {},
   "outputs": [],
   "source": [
    "#Choose Microsoft stock - ticker symbol MSFT to pull data from yahoo\n",
    "stock_MSFT = data.DataReader('MSFT','yahoo',start,end)"
   ]
  },
  {
   "cell_type": "code",
   "execution_count": 14,
   "metadata": {},
   "outputs": [
    {
     "data": {
      "text/html": [
       "<div>\n",
       "<style scoped>\n",
       "    .dataframe tbody tr th:only-of-type {\n",
       "        vertical-align: middle;\n",
       "    }\n",
       "\n",
       "    .dataframe tbody tr th {\n",
       "        vertical-align: top;\n",
       "    }\n",
       "\n",
       "    .dataframe thead th {\n",
       "        text-align: right;\n",
       "    }\n",
       "</style>\n",
       "<table border=\"1\" class=\"dataframe\">\n",
       "  <thead>\n",
       "    <tr style=\"text-align: right;\">\n",
       "      <th></th>\n",
       "      <th>High</th>\n",
       "      <th>Low</th>\n",
       "      <th>Open</th>\n",
       "      <th>Close</th>\n",
       "      <th>Volume</th>\n",
       "      <th>Adj Close</th>\n",
       "    </tr>\n",
       "  </thead>\n",
       "  <tbody>\n",
       "    <tr>\n",
       "      <th>count</th>\n",
       "      <td>252.000000</td>\n",
       "      <td>252.000000</td>\n",
       "      <td>252.000000</td>\n",
       "      <td>252.000000</td>\n",
       "      <td>2.520000e+02</td>\n",
       "      <td>252.000000</td>\n",
       "    </tr>\n",
       "    <tr>\n",
       "      <th>mean</th>\n",
       "      <td>271.650317</td>\n",
       "      <td>267.240039</td>\n",
       "      <td>269.358287</td>\n",
       "      <td>269.650773</td>\n",
       "      <td>2.604325e+07</td>\n",
       "      <td>268.553759</td>\n",
       "    </tr>\n",
       "    <tr>\n",
       "      <th>std</th>\n",
       "      <td>36.298809</td>\n",
       "      <td>36.008464</td>\n",
       "      <td>36.255769</td>\n",
       "      <td>36.224485</td>\n",
       "      <td>8.266311e+06</td>\n",
       "      <td>36.712845</td>\n",
       "    </tr>\n",
       "    <tr>\n",
       "      <th>min</th>\n",
       "      <td>213.320007</td>\n",
       "      <td>209.110001</td>\n",
       "      <td>210.050003</td>\n",
       "      <td>212.250000</td>\n",
       "      <td>1.055057e+07</td>\n",
       "      <td>210.485641</td>\n",
       "    </tr>\n",
       "    <tr>\n",
       "      <th>25%</th>\n",
       "      <td>242.789997</td>\n",
       "      <td>238.065029</td>\n",
       "      <td>239.099998</td>\n",
       "      <td>239.614994</td>\n",
       "      <td>2.024625e+07</td>\n",
       "      <td>237.633202</td>\n",
       "    </tr>\n",
       "    <tr>\n",
       "      <th>50%</th>\n",
       "      <td>261.764999</td>\n",
       "      <td>257.775513</td>\n",
       "      <td>259.797501</td>\n",
       "      <td>260.819992</td>\n",
       "      <td>2.434558e+07</td>\n",
       "      <td>259.371872</td>\n",
       "    </tr>\n",
       "    <tr>\n",
       "      <th>75%</th>\n",
       "      <td>298.989998</td>\n",
       "      <td>294.187492</td>\n",
       "      <td>296.931252</td>\n",
       "      <td>296.824989</td>\n",
       "      <td>3.009646e+07</td>\n",
       "      <td>296.282928</td>\n",
       "    </tr>\n",
       "    <tr>\n",
       "      <th>max</th>\n",
       "      <td>349.670013</td>\n",
       "      <td>342.200012</td>\n",
       "      <td>344.619995</td>\n",
       "      <td>343.109985</td>\n",
       "      <td>6.987064e+07</td>\n",
       "      <td>343.109985</td>\n",
       "    </tr>\n",
       "  </tbody>\n",
       "</table>\n",
       "</div>"
      ],
      "text/plain": [
       "             High         Low        Open       Close        Volume  \\\n",
       "count  252.000000  252.000000  252.000000  252.000000  2.520000e+02   \n",
       "mean   271.650317  267.240039  269.358287  269.650773  2.604325e+07   \n",
       "std     36.298809   36.008464   36.255769   36.224485  8.266311e+06   \n",
       "min    213.320007  209.110001  210.050003  212.250000  1.055057e+07   \n",
       "25%    242.789997  238.065029  239.099998  239.614994  2.024625e+07   \n",
       "50%    261.764999  257.775513  259.797501  260.819992  2.434558e+07   \n",
       "75%    298.989998  294.187492  296.931252  296.824989  3.009646e+07   \n",
       "max    349.670013  342.200012  344.619995  343.109985  6.987064e+07   \n",
       "\n",
       "        Adj Close  \n",
       "count  252.000000  \n",
       "mean   268.553759  \n",
       "std     36.712845  \n",
       "min    210.485641  \n",
       "25%    237.633202  \n",
       "50%    259.371872  \n",
       "75%    296.282928  \n",
       "max    343.109985  "
      ]
     },
     "execution_count": 14,
     "metadata": {},
     "output_type": "execute_result"
    }
   ],
   "source": [
    "#view MSFT stock data (summary Stats)\n",
    "stock_MSFT.describe()"
   ]
  },
  {
   "cell_type": "code",
   "execution_count": 15,
   "metadata": {},
   "outputs": [
    {
     "data": {
      "text/plain": [
       "<AxesSubplot:xlabel='Date'>"
      ]
     },
     "execution_count": 15,
     "metadata": {},
     "output_type": "execute_result"
    },
    {
     "data": {
      "image/png": "[encoded data removed]",
      "text/plain": [
       "<Figure size 720x432 with 1 Axes>"
      ]
     },
     "metadata": {},
     "output_type": "display_data"
    }
   ],
   "source": [
    "#view MSFT stock data for 1 year\n",
    "style.use('ggplot')\n",
    "stock_MSFT['Adj Close'].plot(legend=True,figsize=(10,6))"
   ]
  },
  {
   "cell_type": "code",
   "execution_count": null,
   "metadata": {},
   "outputs": [],
   "source": []
  },
  {
   "cell_type": "code",
   "execution_count": null,
   "metadata": {},
   "outputs": [],
   "source": []
  },
  {
   "cell_type": "code",
   "execution_count": null,
   "metadata": {},
   "outputs": [],
   "source": []
  },
  {
   "cell_type": "code",
   "execution_count": null,
   "metadata": {},
   "outputs": [],
   "source": []
  }
 ],
 "metadata": {
  "kernelspec": {
   "display_name": "Python 3",
   "language": "python",
   "name": "python3"
  },
  "language_info": {
   "codemirror_mode": {
    "name": "ipython",
    "version": 3
   },
   "file_extension": ".py",
   "mimetype": "text/x-python",
   "name": "python",
   "nbconvert_exporter": "python",
   "pygments_lexer": "ipython3",
   "version": "3.8.8"
  }
 },
 "nbformat": 4,
 "nbformat_minor": 1
}
